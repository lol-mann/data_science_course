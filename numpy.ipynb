{
  "nbformat": 4,
  "nbformat_minor": 0,
  "metadata": {
    "colab": {
      "name": "numpy.ipynb",
      "provenance": [],
      "collapsed_sections": [],
      "include_colab_link": true
    },
    "kernelspec": {
      "name": "python3",
      "display_name": "Python 3"
    }
  },
  "cells": [
    {
      "cell_type": "markdown",
      "metadata": {
        "id": "view-in-github",
        "colab_type": "text"
      },
      "source": [
        "<a href=\"https://colab.research.google.com/github/lol-mann/data_science_course/blob/master/numpy.ipynb\" target=\"_parent\"><img src=\"https://colab.research.google.com/assets/colab-badge.svg\" alt=\"Open In Colab\"/></a>"
      ]
    },
    {
      "cell_type": "markdown",
      "metadata": {
        "id": "x4Xeondgq74T",
        "colab_type": "text"
      },
      "source": [
        "Numpy\n",
        "\n",
        "Numpy is the core library for scientific computing in Python. It provides a high-performance multidimensional array object, and tools for working with these arrays.\n",
        "\n",
        "\n",
        "you can consider arrays as a matrix in mathematics.\n",
        "\n",
        "ex: \n",
        "\n",
        "$\n",
        "\\begin{bmatrix}\n",
        "1 & 2 & 3\\\\\n",
        "a & b & c\n",
        "\\end{bmatrix}\n",
        "$\n",
        "\n",
        "\n"
      ]
    },
    {
      "cell_type": "markdown",
      "metadata": {
        "id": "N0Kcaidn1a-M",
        "colab_type": "text"
      },
      "source": [
        "![alt text](https://i.ibb.co/2hJYCvf/Untitled.png)"
      ]
    },
    {
      "cell_type": "markdown",
      "metadata": {
        "id": "c6yEb_4B1Z4Y",
        "colab_type": "text"
      },
      "source": [
        "numpy arrays are fast and lightweight"
      ]
    },
    {
      "cell_type": "code",
      "metadata": {
        "id": "eixOM3oMqhDb",
        "colab_type": "code",
        "colab": {}
      },
      "source": [
        "test_list = []\n",
        "for i in range(100000000):\n",
        "  test_list.append(i)"
      ],
      "execution_count": 0,
      "outputs": []
    },
    {
      "cell_type": "code",
      "metadata": {
        "id": "p1AYc8KNwug0",
        "colab_type": "code",
        "colab": {}
      },
      "source": [
        "%%time\n",
        "test_list = [x**0.5 for x in test_list]"
      ],
      "execution_count": 0,
      "outputs": []
    },
    {
      "cell_type": "code",
      "metadata": {
        "id": "NQEkSlzKxAP3",
        "colab_type": "code",
        "colab": {}
      },
      "source": [
        "import numpy as np\n",
        "test_array=np.array(test_list)"
      ],
      "execution_count": 0,
      "outputs": []
    },
    {
      "cell_type": "code",
      "metadata": {
        "id": "u4FoZs-qxXmR",
        "colab_type": "code",
        "colab": {}
      },
      "source": [
        "%%time\n",
        "test_array=np.sqrt(test_array)"
      ],
      "execution_count": 0,
      "outputs": []
    },
    {
      "cell_type": "code",
      "metadata": {
        "id": "nCBQayh4zvYA",
        "colab_type": "code",
        "colab": {}
      },
      "source": [
        ""
      ],
      "execution_count": 0,
      "outputs": []
    },
    {
      "cell_type": "markdown",
      "metadata": {
        "id": "m7JPcmmi4I9C",
        "colab_type": "text"
      },
      "source": [
        "initializing"
      ]
    },
    {
      "cell_type": "code",
      "metadata": {
        "id": "UDP79AaD4J1X",
        "colab_type": "code",
        "colab": {}
      },
      "source": [
        "#you can initialize an array from a list\n",
        "import numpy as np\n",
        "a = np.array([1,2,3])\n",
        "print(a)"
      ],
      "execution_count": 0,
      "outputs": []
    },
    {
      "cell_type": "code",
      "metadata": {
        "id": "Wp8GIffO4gAz",
        "colab_type": "code",
        "colab": {}
      },
      "source": [
        "print(type(a))"
      ],
      "execution_count": 0,
      "outputs": []
    },
    {
      "cell_type": "code",
      "metadata": {
        "id": "AEbdvar64jHh",
        "colab_type": "code",
        "colab": {}
      },
      "source": [
        "#you can also specify the memory it uses\n",
        "a = np.array([1,2,3], dtype='int16')\n",
        "print(a)"
      ],
      "execution_count": 0,
      "outputs": []
    },
    {
      "cell_type": "code",
      "metadata": {
        "id": "UBQl8lU_4s55",
        "colab_type": "code",
        "colab": {}
      },
      "source": [
        "# Get Type\n",
        "print(a.dtype)"
      ],
      "execution_count": 0,
      "outputs": []
    },
    {
      "cell_type": "code",
      "metadata": {
        "id": "wBK_UCPr4xah",
        "colab_type": "code",
        "colab": {}
      },
      "source": [
        "# Get Size of individual element in array\n",
        "print(a.itemsize)"
      ],
      "execution_count": 0,
      "outputs": []
    },
    {
      "cell_type": "code",
      "metadata": {
        "id": "k81YTEh_4zj5",
        "colab_type": "code",
        "colab": {}
      },
      "source": [
        "# Get total size\n",
        "print(a.nbytes)\n",
        "# you can also use \n",
        "print(a.itemsize*a.size)"
      ],
      "execution_count": 0,
      "outputs": []
    },
    {
      "cell_type": "code",
      "metadata": {
        "id": "6XDPKdts5K2-",
        "colab_type": "code",
        "colab": {}
      },
      "source": [
        "#initializing a two dimentional array\n",
        "b = np.array([[9.0,8.0,7.0],[6.0,5.0,4.0]])\n",
        "print(b)"
      ],
      "execution_count": 0,
      "outputs": []
    },
    {
      "cell_type": "code",
      "metadata": {
        "id": "l6Uw4F6L6XKm",
        "colab_type": "code",
        "colab": {}
      },
      "source": [
        "# Get Dimension\n",
        "print(a.ndim)\n",
        "print(b.ndim)"
      ],
      "execution_count": 0,
      "outputs": []
    },
    {
      "cell_type": "markdown",
      "metadata": {
        "id": "VIELjPZM6tRt",
        "colab_type": "text"
      },
      "source": [
        "index and accessing elements"
      ]
    },
    {
      "cell_type": "code",
      "metadata": {
        "id": "4quj2hiu6ci9",
        "colab_type": "code",
        "colab": {}
      },
      "source": [
        "a = np.array([[1,2,3,4,5,6,7],[8,9,10,11,12,13,14]])\n",
        "print(a)"
      ],
      "execution_count": 0,
      "outputs": []
    },
    {
      "cell_type": "code",
      "metadata": {
        "id": "GE2IXRuN60U1",
        "colab_type": "code",
        "colab": {}
      },
      "source": [
        "b=np.array([\n",
        "            [[1,2,3,4,5,6,7],[8,9,10,11,12,13,14]],\n",
        "            [[15,16,17,18,19,20,21],[22,23,24,25,26,27,28]],\n",
        "            [[1,2,3,4,5,6,7],[8,9,10,11,12,13,14]]\n",
        "            ])\n",
        "print(b)"
      ],
      "execution_count": 0,
      "outputs": []
    },
    {
      "cell_type": "code",
      "metadata": {
        "id": "U4kEm1Py7Evt",
        "colab_type": "code",
        "colab": {}
      },
      "source": [
        "#to find the first element of fifth column\n",
        "a[0,4]"
      ],
      "execution_count": 0,
      "outputs": []
    },
    {
      "cell_type": "code",
      "metadata": {
        "id": "8iGtACUXMrgV",
        "colab_type": "code",
        "colab": {}
      },
      "source": [
        "#to find the second element of fifth column\n",
        "a[1,4]"
      ],
      "execution_count": 0,
      "outputs": []
    },
    {
      "cell_type": "code",
      "metadata": {
        "id": "v9LbsZPkNCfl",
        "colab_type": "code",
        "colab": {}
      },
      "source": [
        "#to find the second element of fifth column\n",
        "a[1,-3]"
      ],
      "execution_count": 0,
      "outputs": []
    },
    {
      "cell_type": "code",
      "metadata": {
        "id": "O7F5osNXNG_i",
        "colab_type": "code",
        "colab": {}
      },
      "source": [
        "#to get the entire first row\n",
        "a[0,:]"
      ],
      "execution_count": 0,
      "outputs": []
    },
    {
      "cell_type": "code",
      "metadata": {
        "id": "-Hmz5jwqNLLp",
        "colab_type": "code",
        "colab": {}
      },
      "source": [
        "#to get the entire first column\n",
        "a[:,0]"
      ],
      "execution_count": 0,
      "outputs": []
    },
    {
      "cell_type": "code",
      "metadata": {
        "id": "WQxSCe6sNgtg",
        "colab_type": "code",
        "colab": {}
      },
      "source": [
        "#to get the entire third column\n",
        "a[:,2]"
      ],
      "execution_count": 0,
      "outputs": []
    },
    {
      "cell_type": "code",
      "metadata": {
        "id": "O4yYCJMsNqOp",
        "colab_type": "code",
        "colab": {}
      },
      "source": [
        "#indexing -> [start:end(exclusive):step]\n",
        "#first row \n",
        "a[0, 1:-1:2]"
      ],
      "execution_count": 0,
      "outputs": []
    },
    {
      "cell_type": "code",
      "metadata": {
        "id": "IqcUar8_C9a0",
        "colab_type": "code",
        "colab": {}
      },
      "source": [
        "#changing the values \n",
        "a[1,5] = 200\n",
        "print(a)"
      ],
      "execution_count": 0,
      "outputs": []
    },
    {
      "cell_type": "code",
      "metadata": {
        "id": "N7duU8mFDEgw",
        "colab_type": "code",
        "colab": {}
      },
      "source": [
        "#changing a value of entire row\n",
        "a[:,2] = 99\n",
        "print(a)"
      ],
      "execution_count": 0,
      "outputs": []
    },
    {
      "cell_type": "code",
      "metadata": {
        "id": "eVS4kH0IDMK2",
        "colab_type": "code",
        "colab": {}
      },
      "source": [
        "#changing a value of entire row\n",
        "a[:,2] = [88,108]\n",
        "print(a)"
      ],
      "execution_count": 0,
      "outputs": []
    },
    {
      "cell_type": "code",
      "metadata": {
        "id": "lHETRsWuDYwW",
        "colab_type": "code",
        "colab": {}
      },
      "source": [
        "b[:,:,-1] = [[100,100],\n",
        "            [100,100],\n",
        "            [100,100]]\n",
        "print(b)"
      ],
      "execution_count": 0,
      "outputs": []
    },
    {
      "cell_type": "markdown",
      "metadata": {
        "id": "iQ-SRliVEAkt",
        "colab_type": "text"
      },
      "source": [
        "Initializing Different Types of Arrays easily"
      ]
    },
    {
      "cell_type": "code",
      "metadata": {
        "id": "P3wkD0BODeeF",
        "colab_type": "code",
        "colab": {}
      },
      "source": [
        "# to create a matrix of all 0s of shape 2x3\n",
        "np.zeros((2,3),dtype='int32')"
      ],
      "execution_count": 0,
      "outputs": []
    },
    {
      "cell_type": "code",
      "metadata": {
        "id": "zYzzLWRYD2nf",
        "colab_type": "code",
        "colab": {}
      },
      "source": [
        "# to create a matrix of all 0s of shape 2x3\n",
        "np.zeros((2,3),dtype='float32')"
      ],
      "execution_count": 0,
      "outputs": []
    },
    {
      "cell_type": "code",
      "metadata": {
        "id": "sNZcR7FjGBOA",
        "colab_type": "code",
        "colab": {}
      },
      "source": [
        "# All 1s matrix\n",
        "np.ones((4,2,2), dtype='int32')"
      ],
      "execution_count": 0,
      "outputs": []
    },
    {
      "cell_type": "code",
      "metadata": {
        "id": "gVBSDBKHGFz4",
        "colab_type": "code",
        "colab": {}
      },
      "source": [
        "#with any other number example 8 of shape 4x4\n",
        "np.full((4,4), 8)"
      ],
      "execution_count": 0,
      "outputs": []
    },
    {
      "cell_type": "markdown",
      "metadata": {
        "id": "B-_JqXf0Gnoc",
        "colab_type": "text"
      },
      "source": [
        "Initializing Different Types of Arrays randomly"
      ]
    },
    {
      "cell_type": "code",
      "metadata": {
        "id": "onnc4FCMGQdI",
        "colab_type": "code",
        "colab": {}
      },
      "source": [
        "# Random decimal numbers\n",
        "np.random.rand(4,2)"
      ],
      "execution_count": 0,
      "outputs": []
    },
    {
      "cell_type": "code",
      "metadata": {
        "id": "6MjNLtv-Gsav",
        "colab_type": "code",
        "colab": {}
      },
      "source": [
        "# Random Integer values\n",
        "np.random.randint(-4,8, size=(3,3))"
      ],
      "execution_count": 0,
      "outputs": []
    },
    {
      "cell_type": "code",
      "metadata": {
        "id": "WpiartbjGxBu",
        "colab_type": "code",
        "colab": {}
      },
      "source": [
        "# The identity matrix - by default it's a square matrix\n",
        "np.identity(5)"
      ],
      "execution_count": 0,
      "outputs": []
    },
    {
      "cell_type": "code",
      "metadata": {
        "id": "-S91N533HJ8O",
        "colab_type": "code",
        "colab": {}
      },
      "source": [
        "output = np.ones((5,5))\n",
        "print(output)\n",
        "\n",
        "z = np.zeros((3,3))\n",
        "z[1,1] = 9\n",
        "print(z)\n",
        "\n",
        "output[1:-1,1:-1] = z\n",
        "print(output)"
      ],
      "execution_count": 0,
      "outputs": []
    },
    {
      "cell_type": "markdown",
      "metadata": {
        "id": "BCy7EKN_cWw9",
        "colab_type": "text"
      },
      "source": [
        "Mathematics with numpy"
      ]
    },
    {
      "cell_type": "code",
      "metadata": {
        "id": "-9I762JlcTv0",
        "colab_type": "code",
        "colab": {}
      },
      "source": [
        "a = np.array([1,2,3,4])\n",
        "print(a)"
      ],
      "execution_count": 0,
      "outputs": []
    },
    {
      "cell_type": "code",
      "metadata": {
        "id": "kv8gGF_ideIV",
        "colab_type": "code",
        "colab": {}
      },
      "source": [
        "print(a + 2)\n",
        "print(a - 2)\n",
        "print(a * 2)\n",
        "print(a / 2)"
      ],
      "execution_count": 0,
      "outputs": []
    },
    {
      "cell_type": "code",
      "metadata": {
        "id": "K28Xxzq-dxVs",
        "colab_type": "code",
        "colab": {}
      },
      "source": [
        "b = np.array([1,0,1,0])\n",
        "a + b"
      ],
      "execution_count": 0,
      "outputs": []
    },
    {
      "cell_type": "code",
      "metadata": {
        "id": "woa9eUXed1kd",
        "colab_type": "code",
        "colab": {}
      },
      "source": [
        "print(a ** 2)"
      ],
      "execution_count": 0,
      "outputs": []
    },
    {
      "cell_type": "code",
      "metadata": {
        "id": "OQ4jGp2feeuj",
        "colab_type": "code",
        "colab": {}
      },
      "source": [
        "print(a ** a)"
      ],
      "execution_count": 0,
      "outputs": []
    },
    {
      "cell_type": "code",
      "metadata": {
        "id": "LFG9WEhVeg2b",
        "colab_type": "code",
        "colab": {}
      },
      "source": [
        "# Take the sin or cos\n",
        "print(np.sin(a))\n",
        "print(np.cos(a))"
      ],
      "execution_count": 0,
      "outputs": []
    },
    {
      "cell_type": "markdown",
      "metadata": {
        "id": "eSY2_n8_in9h",
        "colab_type": "text"
      },
      "source": [
        "Linear Algebra"
      ]
    },
    {
      "cell_type": "code",
      "metadata": {
        "id": "zdA8i5SVeo8r",
        "colab_type": "code",
        "colab": {}
      },
      "source": [
        "#matrix multiplication\n",
        "a = np.ones((2,3))\n",
        "\n",
        "b = np.full((3,2), 2)\n",
        "print(a , b )\n",
        "\n",
        "np.matmul(a,b)"
      ],
      "execution_count": 0,
      "outputs": []
    },
    {
      "cell_type": "code",
      "metadata": {
        "id": "gygSduLEfhr5",
        "colab_type": "code",
        "colab": {}
      },
      "source": [
        "# Find the determinant\n",
        "c = np.identity(3)\n",
        "print(c)\n",
        "print()\n",
        "print(np.linalg.det(c))\n",
        "print()\n",
        "print(np.matmul(a,b))\n",
        "print()\n",
        "print(np.linalg.det(np.matmul(a,b)))"
      ],
      "execution_count": 0,
      "outputs": []
    },
    {
      "cell_type": "code",
      "metadata": {
        "id": "9567qinSiwd0",
        "colab_type": "code",
        "colab": {}
      },
      "source": [
        "A,L = np.linalg.eig(np.diag((1,2,3)))"
      ],
      "execution_count": 0,
      "outputs": []
    },
    {
      "cell_type": "code",
      "metadata": {
        "id": "4oy0u8mnmSe9",
        "colab_type": "code",
        "colab": {}
      },
      "source": [
        "A"
      ],
      "execution_count": 0,
      "outputs": []
    },
    {
      "cell_type": "code",
      "metadata": {
        "id": "KwyfFmh7nFul",
        "colab_type": "code",
        "colab": {}
      },
      "source": [
        "L"
      ],
      "execution_count": 0,
      "outputs": []
    },
    {
      "cell_type": "markdown",
      "metadata": {
        "id": "cpT_vXzpnTTn",
        "colab_type": "text"
      },
      "source": [
        "statistics"
      ]
    },
    {
      "cell_type": "code",
      "metadata": {
        "id": "VC24opv8nGSj",
        "colab_type": "code",
        "colab": {}
      },
      "source": [
        "stats = np.array([[1,2,3],[4,5,6]])\n",
        "stats"
      ],
      "execution_count": 0,
      "outputs": []
    },
    {
      "cell_type": "code",
      "metadata": {
        "id": "BH2fXPefnQ3j",
        "colab_type": "code",
        "colab": {}
      },
      "source": [
        "np.min(stats)"
      ],
      "execution_count": 0,
      "outputs": []
    },
    {
      "cell_type": "code",
      "metadata": {
        "id": "TfJXMCZ2nStj",
        "colab_type": "code",
        "colab": {}
      },
      "source": [
        "np.max(stats)"
      ],
      "execution_count": 0,
      "outputs": []
    },
    {
      "cell_type": "code",
      "metadata": {
        "id": "t8o9i946nXsn",
        "colab_type": "code",
        "colab": {}
      },
      "source": [
        "np.max(stats, axis=1)"
      ],
      "execution_count": 0,
      "outputs": []
    },
    {
      "cell_type": "code",
      "metadata": {
        "id": "OWHWcyTenZrq",
        "colab_type": "code",
        "colab": {}
      },
      "source": [
        "np.sum(stats, axis=0)"
      ],
      "execution_count": 0,
      "outputs": []
    },
    {
      "cell_type": "code",
      "metadata": {
        "id": "Cg2cv04YnfDD",
        "colab_type": "code",
        "colab": {}
      },
      "source": [
        "np.sum(stats, axis=1)"
      ],
      "execution_count": 0,
      "outputs": []
    },
    {
      "cell_type": "code",
      "metadata": {
        "id": "AIOhfcLdnh8T",
        "colab_type": "code",
        "colab": {}
      },
      "source": [
        ""
      ],
      "execution_count": 0,
      "outputs": []
    }
  ]
}