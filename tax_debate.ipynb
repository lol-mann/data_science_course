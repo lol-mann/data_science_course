{
  "nbformat": 4,
  "nbformat_minor": 0,
  "metadata": {
    "colab": {
      "name": "tax debate.ipynb",
      "provenance": [],
      "authorship_tag": "ABX9TyOhp5DCvt4v0aRirz2Ee1D3"
    },
    "kernelspec": {
      "name": "python3",
      "display_name": "Python 3"
    }
  },
  "cells": [
    {
      "cell_type": "markdown",
      "metadata": {
        "id": "lJykC9QNWTei",
        "colab_type": "text"
      },
      "source": [
        "#**Data Science**"
      ]
    },
    {
      "cell_type": "markdown",
      "metadata": {
        "id": "INOQ1ieVYvma",
        "colab_type": "text"
      },
      "source": [
        "**problem statement**\n",
        "\n",
        "\n",
        "---\n",
        "\n",
        "\n",
        "\n",
        "* has increasing tax or decreasing tax done anything on government revenue?\n",
        "\n",
        "\n"
      ]
    },
    {
      "cell_type": "markdown",
      "metadata": {
        "id": "ilt8Y3g5dsQt",
        "colab_type": "text"
      },
      "source": [
        "flow \n",
        "\n",
        "\n",
        "---\n",
        "* Problem Statement\n",
        "\n",
        "    RULE 1: define your problem statement properly and be very very careful about it\n",
        "\n",
        "    RULE 2: define your problem statement properly and be very very careful about it\n",
        "\n",
        "    RULE 3: define your problem statement properly and be very very very very careful about it\n",
        "\n",
        "  Data science (or any science or any studies per se) is about asking the right question. ask stupid question, get stupid answers. ask brillant question get brilliant answer.\n",
        "\n",
        "  Greatest philosophers, thinkers, scientists are all the people who asked the right/correct question. scientific methods, thought expirements and scientific expirements are just the way to get answers for those questions.\n",
        "\n",
        "* Data collection\n",
        "  * collecting the correct and necessary data. if we are not able to find the right data or if the data is unavailable /unattainable, we cannot proceed forward with our project. \n",
        ">     \"our conclusion is as good as our data\"\n",
        "    \n",
        "    if we have a high quality data, our inference will be better. on contrast when we have poor quality data, our inference will be bad\n",
        "* Data cleaning and validation\n",
        "  *  After we collect data we should check if there are any errors in the data and clean it.\n",
        "  *  We also need to check for any anomalies and externalities that might affect our project.\n",
        "  *  Checking and ensuring the quality of data makes our inference precise and better \n",
        "* Data Visualization\n",
        "  *  Visualization of data is one of the most important step. \n",
        "  *  It lets us check our work ( to check if the data is of high quality, are there externalities, basic patterns that our data has to follow and understanding the nature of the data itself)\n",
        "  *  It presents us the grand picture and understanding or our dataset visually.\n",
        "* Data analysis\n",
        "  *  The easiest step of all ( if we did all the previous step properly).\n",
        "* Inference\n",
        "  *  We infer a model or some truth from the data. maybe a realtion between two factors or group of factors."
      ]
    },
    {
      "cell_type": "markdown",
      "metadata": {
        "id": "8iK6gn7btdtd",
        "colab_type": "text"
      },
      "source": [
        "##**The decade old debate in the world**"
      ]
    },
    {
      "cell_type": "markdown",
      "metadata": {
        "id": "BTdffXvNta4i",
        "colab_type": "text"
      },
      "source": [
        "<div>\n",
        "  <a><img src=\"https://i.ibb.co/RcZMQ1H/img-114289-mukesh-ambani.jpg\" alt=\"mukesh-ambani\"></a>\n",
        "  <a><img src=\"https://i.ibb.co/hLdpYDw/02stalin1.jpg\" alt=\"stalin\"></a>\n",
        "<div />"
      ]
    },
    {
      "cell_type": "markdown",
      "metadata": {
        "id": "S4Mt7R1FLHjQ",
        "colab_type": "text"
      },
      "source": [
        "argument for high tax\n",
        "\n",
        "\n",
        "---\n",
        "\n"
      ]
    },
    {
      "cell_type": "code",
      "metadata": {
        "id": "sphWWVOTKwp1",
        "colab_type": "code",
        "colab": {
          "base_uri": "https://localhost:8080/",
          "height": 336
        },
        "outputId": "954e2d00-a5a4-45e3-e91e-0692e7cb6a80"
      },
      "source": [
        "%%html\n",
        "<iframe width=\"560\" height=\"315\" src=\"https://www.youtube.com/embed/-eMs8rzBesw\" frameborder=\"0\" allow=\"accelerometer; autoplay; encrypted-media; gyroscope; picture-in-picture\" allowfullscreen></iframe>"
      ],
      "execution_count": 4,
      "outputs": [
        {
          "output_type": "display_data",
          "data": {
            "text/html": [
              "<iframe width=\"560\" height=\"315\" src=\"https://www.youtube.com/embed/-eMs8rzBesw\" frameborder=\"0\" allow=\"accelerometer; autoplay; encrypted-media; gyroscope; picture-in-picture\" allowfullscreen></iframe>"
            ],
            "text/plain": [
              "<IPython.core.display.HTML object>"
            ]
          },
          "metadata": {
            "tags": []
          }
        }
      ]
    },
    {
      "cell_type": "code",
      "metadata": {
        "id": "WvJYxRaWTDGS",
        "colab_type": "code",
        "colab": {
          "base_uri": "https://localhost:8080/",
          "height": 336
        },
        "outputId": "4cd4f415-d63a-4e3b-de94-673334901541"
      },
      "source": [
        "%%html\n",
        "<iframe width=\"560\" height=\"315\" src=\"https://www.youtube.com/embed/GFEzJovH2yo\" frameborder=\"0\" allow=\"accelerometer; autoplay; encrypted-media; gyroscope; picture-in-picture\" allowfullscreen></iframe>"
      ],
      "execution_count": 8,
      "outputs": [
        {
          "output_type": "display_data",
          "data": {
            "text/html": [
              "<iframe width=\"560\" height=\"315\" src=\"https://www.youtube.com/embed/GFEzJovH2yo\" frameborder=\"0\" allow=\"accelerometer; autoplay; encrypted-media; gyroscope; picture-in-picture\" allowfullscreen></iframe>"
            ],
            "text/plain": [
              "<IPython.core.display.HTML object>"
            ]
          },
          "metadata": {
            "tags": []
          }
        }
      ]
    },
    {
      "cell_type": "markdown",
      "metadata": {
        "id": "bjQgOBtVtj-j",
        "colab_type": "text"
      },
      "source": [
        "argument for lower tax\n",
        "\n",
        "\n",
        "---\n",
        "\n",
        "* Profit and plunder are not the same thing.\n",
        "\n",
        "Imagine a person who provides services to\n",
        "society.\n",
        "Maybe he gives phone, or fixes bike, or paints\n",
        "houses, and in return for these services he\n",
        "provides to others, he asks for something\n",
        "in return, maybe some food, clothing and shelter.\n",
        "Now, suppose it's the case that the society\n",
        "values what this person provides tremendously,\n",
        "maybe because these are things that society\n",
        "really needs, or maybe because there are very\n",
        "few people who are able to do these things.\n",
        "But, for whatever reason, society places a\n",
        "great value on the things this person contributes.\n",
        "And let's suppose, also, that society places\n",
        "a relatively low value on the things that\n",
        "he asks for in return.\n",
        "Perhaps it's because these things are easy\n",
        "to produce.\n",
        "There's lots of them laying around.\n",
        "For whatever reason, imagine that society\n",
        "places a low value on the resources this person\n",
        "asks for in exchange.\n",
        "We would look at this person and say, \"This\n",
        "is a person who we would like to have.\n",
        "He contributes more to society than he asks\n",
        "for in return.\"\n",
        "But, now take this person and superimpose\n",
        "on top of him a monetary system, where instead\n",
        "of exchanging the things he does for society's\n",
        "resources, he exchanges the things he does\n",
        "for money and uses the money to buy resources\n",
        "from others.\n",
        "The person provides value to society and society\n",
        "gives him money in return, and the money\n",
        "are commensurate with the value that society\n",
        "places on these things he offers.\n",
        "Society highly values the services, and so\n",
        "people are willing to pay him a lot of money\n",
        "for these services.\n",
        "And then in return, the person takes some\n",
        "of this money that he's earned, and he buys\n",
        "resources from society.\n",
        "And because society does not place a large\n",
        "value on the things he's asking for in return,\n",
        "they don't ask for much money for these.\n",
        "And so if you look at the system, what's happening\n",
        "is that the person is accumulating money.\n",
        "He will have more money coming in than there\n",
        "are money going out.\n",
        "We call this profit.\n",
        "Now, many people look at profit and say that\n",
        "profit is, in some sense, a bad thing because\n",
        "it represents something that someone is taking\n",
        "from society, but if you look at it in this\n",
        "context, profit is actually an indication\n",
        "that this person has done something good,\n",
        "that he has provided more value to others\n",
        "than he has asked for in exchange.\n",
        "And so as he provides this value and asks\n",
        "for things in exchange, he accumulates these\n",
        "dollar bills.\n",
        "\n",
        "government doesn't have the right to redistribute wealth.\n",
        "\n",
        "moreover, higher tax won't work."
      ]
    },
    {
      "cell_type": "code",
      "metadata": {
        "id": "QTlPgOJJK9z4",
        "colab_type": "code",
        "colab": {
          "base_uri": "https://localhost:8080/",
          "height": 336
        },
        "outputId": "8971afaa-c14f-45bc-f2e1-a7da22a82a48"
      },
      "source": [
        "%%html\n",
        "<iframe width=\"560\" height=\"315\" src=\"https://www.youtube.com/embed/FqLjyA0hL1s\" frameborder=\"0\" allow=\"accelerometer; autoplay; encrypted-media; gyroscope; picture-in-picture\" allowfullscreen></iframe>"
      ],
      "execution_count": 5,
      "outputs": [
        {
          "output_type": "display_data",
          "data": {
            "text/html": [
              "<iframe width=\"560\" height=\"315\" src=\"https://www.youtube.com/embed/FqLjyA0hL1s\" frameborder=\"0\" allow=\"accelerometer; autoplay; encrypted-media; gyroscope; picture-in-picture\" allowfullscreen></iframe>"
            ],
            "text/plain": [
              "<IPython.core.display.HTML object>"
            ]
          },
          "metadata": {
            "tags": []
          }
        }
      ]
    },
    {
      "cell_type": "code",
      "metadata": {
        "id": "vtIzuc3ttjTU",
        "colab_type": "code",
        "colab": {}
      },
      "source": [
        ""
      ],
      "execution_count": 0,
      "outputs": []
    },
    {
      "cell_type": "markdown",
      "metadata": {
        "id": "3mQkgeuHmhD9",
        "colab_type": "text"
      },
      "source": [
        "##Data Collection\n",
        "\n"
      ]
    },
    {
      "cell_type": "markdown",
      "metadata": {
        "id": "vTh-R3NItGWv",
        "colab_type": "text"
      },
      "source": [
        "Data collection is the process of gathering information on targeted variables.\n",
        "\n",
        "![data collection](https://www.questionpro.com/blog/wp-content/uploads/2019/06/DataCollection-992x594.jpg)\n",
        "\n",
        "* accurate data collection is essential to maintaining the integrity of research\n",
        "\n",
        "* The selection of appropriate data collection instruments (existing, modified, or newly developed) and clearly delineated instructions for their correct use reduce the likelihood of errors.\n",
        "\n"
      ]
    },
    {
      "cell_type": "markdown",
      "metadata": {
        "id": "bpHHzp2Pt1Wi",
        "colab_type": "text"
      },
      "source": [
        "**collecting data**"
      ]
    },
    {
      "cell_type": "code",
      "metadata": {
        "id": "ehnCJkqtNyxx",
        "colab_type": "code",
        "colab": {}
      },
      "source": [
        ""
      ],
      "execution_count": 0,
      "outputs": []
    },
    {
      "cell_type": "markdown",
      "metadata": {
        "id": "wD4zgjL8u0iJ",
        "colab_type": "text"
      },
      "source": [
        "##Data visualization"
      ]
    },
    {
      "cell_type": "markdown",
      "metadata": {
        "id": "vEsP_xQ62Ul8",
        "colab_type": "text"
      },
      "source": [
        "Data visualization is both an art. (some people say it's also science but i disagree).\n",
        "\n",
        "why visualization?\n",
        "\n",
        "* To communicate information clearly and efficiently (data visualization uses statistical graphics, plots, information graphics and other tools)\n",
        "\n",
        "* It doesn't mean that data visualization needs to look boring to be functional or extremely sophisticated to look beautiful. (art can be both aesthetics of beautiful or aesthetics of ugly)\n",
        "\n",
        "\n",
        "* To convey ideas effectively, both aesthetic form and functionality need to go hand in hand, providing insights into a rather sparse and complex data set \n"
      ]
    },
    {
      "cell_type": "markdown",
      "metadata": {
        "id": "OdDe7WxQ5zvK",
        "colab_type": "text"
      },
      "source": [
        "https://govdna.frontwise.com/#layout/dna/country/0/x/32/y/5/z/8/a/0\n",
        "\n",
        "http://www.puffpuffproject.com/languages.html\n",
        "\n",
        "http://selfiecity.net/selfiexploratory/\n",
        "\n",
        "https://pudding.cool/2017/03/film-dialogue/\n",
        "\n",
        "https://developers.google.com/chart/interactive/docs/gallery\n",
        "\n"
      ]
    },
    {
      "cell_type": "code",
      "metadata": {
        "id": "z9drioWTpj1O",
        "colab_type": "code",
        "colab": {}
      },
      "source": [
        ""
      ],
      "execution_count": 0,
      "outputs": []
    },
    {
      "cell_type": "markdown",
      "metadata": {
        "id": "vZqB_pDJANRa",
        "colab_type": "text"
      },
      "source": [
        "##Data Analysis\n",
        "\n",
        "understanding the messages contained in the data.Mathematical formulas or models called algorithms may be applied to the data to identify relationships among the variables, such as correlation or causation.\n",
        "\n",
        "![Rayleigh Taylor instability](https://upload.wikimedia.org/wikipedia/commons/5/54/Rayleigh-Taylor_instability.jpg)\n",
        "\n",
        "\n",
        "![regression](https://upload.wikimedia.org/wikipedia/commons/7/7e/U.S._Phillips_Curve_2000_to_2013.png)"
      ]
    },
    {
      "cell_type": "markdown",
      "metadata": {
        "id": "W4pc9NYdXKzI",
        "colab_type": "text"
      },
      "source": [
        "Take a look at the example\n",
        "\n",
        "http://projector.tensorflow.org/"
      ]
    },
    {
      "cell_type": "code",
      "metadata": {
        "id": "UfJpFwcdpjyY",
        "colab_type": "code",
        "colab": {}
      },
      "source": [
        ""
      ],
      "execution_count": 0,
      "outputs": []
    },
    {
      "cell_type": "code",
      "metadata": {
        "id": "9WXLEoFGpjuZ",
        "colab_type": "code",
        "colab": {}
      },
      "source": [
        ""
      ],
      "execution_count": 0,
      "outputs": []
    },
    {
      "cell_type": "markdown",
      "metadata": {
        "id": "RmFGGo09TRh5",
        "colab_type": "text"
      },
      "source": [
        "##inference"
      ]
    },
    {
      "cell_type": "code",
      "metadata": {
        "id": "iwtElY5Vpjrr",
        "colab_type": "code",
        "colab": {}
      },
      "source": [
        ""
      ],
      "execution_count": 0,
      "outputs": []
    },
    {
      "cell_type": "code",
      "metadata": {
        "id": "-3MMbCCLpjpQ",
        "colab_type": "code",
        "colab": {}
      },
      "source": [
        ""
      ],
      "execution_count": 0,
      "outputs": []
    },
    {
      "cell_type": "markdown",
      "metadata": {
        "colab_type": "text",
        "id": "A9s87TFET0bR"
      },
      "source": [
        ""
      ]
    }
  ]
}