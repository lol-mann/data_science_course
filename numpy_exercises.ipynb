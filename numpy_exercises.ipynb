{
  "nbformat": 4,
  "nbformat_minor": 0,
  "metadata": {
    "colab": {
      "name": "numpy exercises.ipynb",
      "provenance": [],
      "include_colab_link": true
    },
    "kernelspec": {
      "name": "python3",
      "display_name": "Python 3"
    }
  },
  "cells": [
    {
      "cell_type": "markdown",
      "metadata": {
        "id": "view-in-github",
        "colab_type": "text"
      },
      "source": [
        "<a href=\"https://colab.research.google.com/github/lol-mann/data_science_course/blob/master/numpy_exercises.ipynb\" target=\"_parent\"><img src=\"https://colab.research.google.com/assets/colab-badge.svg\" alt=\"Open In Colab\"/></a>"
      ]
    },
    {
      "cell_type": "markdown",
      "metadata": {
        "id": "c_-L3d9gkQVX",
        "colab_type": "text"
      },
      "source": [
        "# numpy"
      ]
    },
    {
      "cell_type": "markdown",
      "metadata": {
        "id": "_Wfj1lLpkVRV",
        "colab_type": "text"
      },
      "source": [
        "arange"
      ]
    },
    {
      "cell_type": "code",
      "metadata": {
        "id": "-3amHchhkTnc",
        "colab_type": "code",
        "colab": {
          "base_uri": "https://localhost:8080/",
          "height": 34
        },
        "outputId": "ec72e151-7745-422f-bfb2-d4e9fc30e631"
      },
      "source": [
        "import numpy as np\n",
        "\n",
        "np.arange(10)"
      ],
      "execution_count": 2,
      "outputs": [
        {
          "output_type": "execute_result",
          "data": {
            "text/plain": [
              "array([0, 1, 2, 3, 4, 5, 6, 7, 8, 9])"
            ]
          },
          "metadata": {
            "tags": []
          },
          "execution_count": 2
        }
      ]
    },
    {
      "cell_type": "code",
      "metadata": {
        "id": "utP-jYxUkZl1",
        "colab_type": "code",
        "colab": {}
      },
      "source": [
        "A = np.arange(25)"
      ],
      "execution_count": 0,
      "outputs": []
    },
    {
      "cell_type": "code",
      "metadata": {
        "id": "ECXMYYLPklnK",
        "colab_type": "code",
        "colab": {
          "base_uri": "https://localhost:8080/",
          "height": 102
        },
        "outputId": "7995af26-6296-4c61-f87e-38a2c5ad06ac"
      },
      "source": [
        "A.reshape(5,5)"
      ],
      "execution_count": 5,
      "outputs": [
        {
          "output_type": "execute_result",
          "data": {
            "text/plain": [
              "array([[ 0,  1,  2,  3,  4],\n",
              "       [ 5,  6,  7,  8,  9],\n",
              "       [10, 11, 12, 13, 14],\n",
              "       [15, 16, 17, 18, 19],\n",
              "       [20, 21, 22, 23, 24]])"
            ]
          },
          "metadata": {
            "tags": []
          },
          "execution_count": 5
        }
      ]
    },
    {
      "cell_type": "code",
      "metadata": {
        "id": "ytRd6s6pkljl",
        "colab_type": "code",
        "colab": {
          "base_uri": "https://localhost:8080/",
          "height": 51
        },
        "outputId": "f0eb306e-e779-4287-ff9d-ce02add1394d"
      },
      "source": [
        "Z = np.arange(11)\n",
        "selected = Z[(3 < Z) & (Z <= 8)]\n",
        "print(Z)\n",
        "print(selected)"
      ],
      "execution_count": 14,
      "outputs": [
        {
          "output_type": "stream",
          "text": [
            "[ 0  1  2  3  4  5  6  7  8  9 10]\n",
            "[4 5 6 7 8]\n"
          ],
          "name": "stdout"
        }
      ]
    },
    {
      "cell_type": "markdown",
      "metadata": {
        "id": "uaX8RMq0pilD",
        "colab_type": "text"
      },
      "source": [
        "inplace condition"
      ]
    },
    {
      "cell_type": "code",
      "metadata": {
        "id": "eeWV7-IGphUH",
        "colab_type": "code",
        "colab": {
          "base_uri": "https://localhost:8080/",
          "height": 34
        },
        "outputId": "87d3e8f9-c515-4bc1-d50d-9f8dbd9fd5d6"
      },
      "source": [
        "Z[(3 < Z) & (Z <= 8)] *2\n",
        "print(Z)"
      ],
      "execution_count": 15,
      "outputs": [
        {
          "output_type": "stream",
          "text": [
            "[ 0  1  2  3  4  5  6  7  8  9 10]\n"
          ],
          "name": "stdout"
        }
      ]
    },
    {
      "cell_type": "markdown",
      "metadata": {
        "id": "3quPiRB1sDaH",
        "colab_type": "text"
      },
      "source": [
        "find common values between two arrays"
      ]
    },
    {
      "cell_type": "code",
      "metadata": {
        "id": "Uya8HG8rsFLI",
        "colab_type": "code",
        "colab": {
          "base_uri": "https://localhost:8080/",
          "height": 34
        },
        "outputId": "f63e23b0-ab35-4142-fb52-2c23fd59ed47"
      },
      "source": [
        "Z1 = np.array([0, 1, 0, 8, 4, 1, 9, 3, 9, 4])\n",
        "Z2 = np.array([2, 5, 9, 9, 1, 9, 9, 0, 6, 6])\n",
        "print(np.intersect1d(Z1,Z2))"
      ],
      "execution_count": 21,
      "outputs": [
        {
          "output_type": "stream",
          "text": [
            "[0 1 9]\n"
          ],
          "name": "stdout"
        }
      ]
    },
    {
      "cell_type": "markdown",
      "metadata": {
        "id": "NcAImZGikNhM",
        "colab_type": "text"
      },
      "source": [
        "# exercises"
      ]
    },
    {
      "cell_type": "markdown",
      "metadata": {
        "id": "fnRZAvEPje0_",
        "colab_type": "text"
      },
      "source": [
        "##  Print the numpy version and the configuration."
      ]
    },
    {
      "cell_type": "code",
      "metadata": {
        "id": "7DgZsvsNjek3",
        "colab_type": "code",
        "colab": {}
      },
      "source": [
        ""
      ],
      "execution_count": 0,
      "outputs": []
    },
    {
      "cell_type": "markdown",
      "metadata": {
        "id": "lIkdMMu1jhnO",
        "colab_type": "text"
      },
      "source": [
        "## Create a null vector of size 25.\n",
        "\n",
        "null vector/array is an vector/array with all elements as zeros\n",
        "\n",
        "eg: [0,0,0,0]"
      ]
    },
    {
      "cell_type": "code",
      "metadata": {
        "id": "idHUJKeVjXwA",
        "colab_type": "code",
        "colab": {}
      },
      "source": [
        ""
      ],
      "execution_count": 0,
      "outputs": []
    },
    {
      "cell_type": "markdown",
      "metadata": {
        "id": "NaJZmHaWjyw3",
        "colab_type": "text"
      },
      "source": [
        "## How to find the memory size of any array."
      ]
    },
    {
      "cell_type": "code",
      "metadata": {
        "id": "2x5u7us0j2CJ",
        "colab_type": "code",
        "colab": {}
      },
      "source": [
        ""
      ],
      "execution_count": 0,
      "outputs": []
    },
    {
      "cell_type": "markdown",
      "metadata": {
        "id": "HPb5_J_6j68l",
        "colab_type": "text"
      },
      "source": [
        "## Create a null vector of size 10 but the ninth value which is 1."
      ]
    },
    {
      "cell_type": "code",
      "metadata": {
        "id": "cB_1f5xdj946",
        "colab_type": "code",
        "colab": {}
      },
      "source": [
        ""
      ],
      "execution_count": 0,
      "outputs": []
    },
    {
      "cell_type": "markdown",
      "metadata": {
        "id": "gETOTT-mkBGG",
        "colab_type": "text"
      },
      "source": [
        "## Reverse an array"
      ]
    },
    {
      "cell_type": "code",
      "metadata": {
        "id": "DoShB_0ikDXz",
        "colab_type": "code",
        "colab": {}
      },
      "source": [
        ""
      ],
      "execution_count": 0,
      "outputs": []
    },
    {
      "cell_type": "markdown",
      "metadata": {
        "id": "weaReO0DkLMr",
        "colab_type": "text"
      },
      "source": [
        "## Create a 6x6 identity matrix."
      ]
    },
    {
      "cell_type": "code",
      "metadata": {
        "id": "s0I4MTXNkMQ5",
        "colab_type": "code",
        "colab": {}
      },
      "source": [
        ""
      ],
      "execution_count": 0,
      "outputs": []
    },
    {
      "cell_type": "markdown",
      "metadata": {
        "id": "kBaKg5Mtkyiq",
        "colab_type": "text"
      },
      "source": [
        "## Create a 3x3x3 array with random values."
      ]
    },
    {
      "cell_type": "code",
      "metadata": {
        "id": "vgUWLC_-kz2x",
        "colab_type": "code",
        "colab": {}
      },
      "source": [
        ""
      ],
      "execution_count": 0,
      "outputs": []
    },
    {
      "cell_type": "markdown",
      "metadata": {
        "id": "6Ede0uulk-BL",
        "colab_type": "text"
      },
      "source": [
        "## Create a 2d array with 1 on the border and 0 inside.\n",
        "\n",
        "expected output\n",
        "\n",
        "    [[1. 1. 1. 1. 1. 1. 1. 1. 1. 1.]\n",
        "    [1. 0. 0. 0. 0. 0. 0. 0. 0. 1.]\n",
        "    [1. 0. 0. 0. 0. 0. 0. 0. 0. 1.]\n",
        "    [1. 0. 0. 0. 0. 0. 0. 0. 0. 1.]\n",
        "    [1. 0. 0. 0. 0. 0. 0. 0. 0. 1.]\n",
        "    [1. 0. 0. 0. 0. 0. 0. 0. 0. 1.]\n",
        "    [1. 0. 0. 0. 0. 0. 0. 0. 0. 1.]\n",
        "    [1. 0. 0. 0. 0. 0. 0. 0. 0. 1.]\n",
        "    [1. 0. 0. 0. 0. 0. 0. 0. 0. 1.]\n",
        "    [1. 1. 1. 1. 1. 1. 1. 1. 1. 1.]]"
      ]
    },
    {
      "cell_type": "markdown",
      "metadata": {
        "id": "8yE2rz2jlU06",
        "colab_type": "text"
      },
      "source": [
        "## What is the result of the following expression?\n",
        "\n",
        "\n",
        "    print(0 * np.nan)\n",
        "    print(np.nan == np.nan)\n",
        "    print(np.inf > np.nan)\n",
        "    print(np.nan - np.nan)\n",
        "    print(np.nan in set([np.nan]))\n",
        "    print(0.3 == 3 * 0.1)"
      ]
    },
    {
      "cell_type": "code",
      "metadata": {
        "id": "uvnY3dMtlQRy",
        "colab_type": "code",
        "colab": {}
      },
      "source": [
        ""
      ],
      "execution_count": 0,
      "outputs": []
    },
    {
      "cell_type": "markdown",
      "metadata": {
        "id": "BxysYxFLlmOy",
        "colab_type": "text"
      },
      "source": [
        "## Multiply a 5x3 matrix by a 3x2 matrix (dot product)\n",
        "\n"
      ]
    },
    {
      "cell_type": "code",
      "metadata": {
        "id": "R-VggnxclqVH",
        "colab_type": "code",
        "colab": {}
      },
      "source": [
        "A = np.ones((5,3))\n",
        "B = np.ones((3,2))\n"
      ],
      "execution_count": 0,
      "outputs": []
    },
    {
      "cell_type": "markdown",
      "metadata": {
        "id": "xoj_44n5mFna",
        "colab_type": "text"
      },
      "source": [
        "why the following code has two different answers"
      ]
    },
    {
      "cell_type": "code",
      "metadata": {
        "id": "aUjU5CWQly9W",
        "colab_type": "code",
        "colab": {
          "base_uri": "https://localhost:8080/",
          "height": 51
        },
        "outputId": "fa58f7dd-a62f-4f5b-d634-b308c0f28fa2"
      },
      "source": [
        "print(sum(range(5),-1))\n",
        "from numpy import *\n",
        "print(np.sum(range(5),-1))"
      ],
      "execution_count": 8,
      "outputs": [
        {
          "output_type": "stream",
          "text": [
            "9\n",
            "10\n"
          ],
          "name": "stdout"
        }
      ]
    },
    {
      "cell_type": "markdown",
      "metadata": {
        "id": "rtMwPfZjzgnA",
        "colab_type": "text"
      },
      "source": [
        "## How to sort an array by the nth column?"
      ]
    },
    {
      "cell_type": "code",
      "metadata": {
        "id": "s9KF2cBxmDau",
        "colab_type": "code",
        "colab": {}
      },
      "source": [
        "Z = np.random.randint(0,10,(3,3))"
      ],
      "execution_count": 0,
      "outputs": []
    }
  ]
}